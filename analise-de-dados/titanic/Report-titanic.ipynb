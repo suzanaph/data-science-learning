{
 "cells": [
  {
   "cell_type": "markdown",
   "metadata": {},
   "source": [
    "### Udacity - Nanoodegree Data Science Fundamentals I\n",
    "### Investigating a Dataset - Titanic \n",
    "\n",
    "#### Suzana Barboza Carvalho"
   ]
  },
  {
   "cell_type": "markdown",
   "metadata": {},
   "source": [
    "# 1. Introduction\n",
    "\n",
    "\n",
    "The target of this project is to investigate the dataset available to Udacity with information from the Titanic passengers. As a class variable we have the survival ratio of each passenger.\n",
    "\n",
    "As is common sense, it was reported in the film that children and women had priority to embark on rescue boats. From this I formulated 3 questions to study this database.\n",
    "\n",
    "    - Has the gender influenced their survivability change?\n",
    "    - Has the class of ticket purchased by the person influenced their survival change?\n",
    "    - Has the age influenced their survival change?\n",
    "    \n",
    "\n",
    "This whole study is based on the above questions."
   ]
  },
  {
   "cell_type": "markdown",
   "metadata": {},
   "source": [
    "# 2. Settings\n",
    "\n",
    "Import the required modules, read the dataset and visualize the same."
   ]
  },
  {
   "cell_type": "code",
   "execution_count": 10,
   "metadata": {},
   "outputs": [
    {
     "data": {
      "text/html": [
       "<div>\n",
       "<style scoped>\n",
       "    .dataframe tbody tr th:only-of-type {\n",
       "        vertical-align: middle;\n",
       "    }\n",
       "\n",
       "    .dataframe tbody tr th {\n",
       "        vertical-align: top;\n",
       "    }\n",
       "\n",
       "    .dataframe thead th {\n",
       "        text-align: right;\n",
       "    }\n",
       "</style>\n",
       "<table border=\"1\" class=\"dataframe\">\n",
       "  <thead>\n",
       "    <tr style=\"text-align: right;\">\n",
       "      <th></th>\n",
       "      <th>PassengerId</th>\n",
       "      <th>Survived</th>\n",
       "      <th>Pclass</th>\n",
       "      <th>Name</th>\n",
       "      <th>Sex</th>\n",
       "      <th>Age</th>\n",
       "      <th>SibSp</th>\n",
       "      <th>Parch</th>\n",
       "      <th>Ticket</th>\n",
       "      <th>Fare</th>\n",
       "      <th>Cabin</th>\n",
       "      <th>Embarked</th>\n",
       "    </tr>\n",
       "  </thead>\n",
       "  <tbody>\n",
       "    <tr>\n",
       "      <th>0</th>\n",
       "      <td>1</td>\n",
       "      <td>0</td>\n",
       "      <td>3</td>\n",
       "      <td>Braund, Mr. Owen Harris</td>\n",
       "      <td>male</td>\n",
       "      <td>22.0</td>\n",
       "      <td>1</td>\n",
       "      <td>0</td>\n",
       "      <td>A/5 21171</td>\n",
       "      <td>7.2500</td>\n",
       "      <td>NaN</td>\n",
       "      <td>S</td>\n",
       "    </tr>\n",
       "    <tr>\n",
       "      <th>1</th>\n",
       "      <td>2</td>\n",
       "      <td>1</td>\n",
       "      <td>1</td>\n",
       "      <td>Cumings, Mrs. John Bradley (Florence Briggs Th...</td>\n",
       "      <td>female</td>\n",
       "      <td>38.0</td>\n",
       "      <td>1</td>\n",
       "      <td>0</td>\n",
       "      <td>PC 17599</td>\n",
       "      <td>71.2833</td>\n",
       "      <td>C85</td>\n",
       "      <td>C</td>\n",
       "    </tr>\n",
       "    <tr>\n",
       "      <th>2</th>\n",
       "      <td>3</td>\n",
       "      <td>1</td>\n",
       "      <td>3</td>\n",
       "      <td>Heikkinen, Miss. Laina</td>\n",
       "      <td>female</td>\n",
       "      <td>26.0</td>\n",
       "      <td>0</td>\n",
       "      <td>0</td>\n",
       "      <td>STON/O2. 3101282</td>\n",
       "      <td>7.9250</td>\n",
       "      <td>NaN</td>\n",
       "      <td>S</td>\n",
       "    </tr>\n",
       "    <tr>\n",
       "      <th>3</th>\n",
       "      <td>4</td>\n",
       "      <td>1</td>\n",
       "      <td>1</td>\n",
       "      <td>Futrelle, Mrs. Jacques Heath (Lily May Peel)</td>\n",
       "      <td>female</td>\n",
       "      <td>35.0</td>\n",
       "      <td>1</td>\n",
       "      <td>0</td>\n",
       "      <td>113803</td>\n",
       "      <td>53.1000</td>\n",
       "      <td>C123</td>\n",
       "      <td>S</td>\n",
       "    </tr>\n",
       "    <tr>\n",
       "      <th>4</th>\n",
       "      <td>5</td>\n",
       "      <td>0</td>\n",
       "      <td>3</td>\n",
       "      <td>Allen, Mr. William Henry</td>\n",
       "      <td>male</td>\n",
       "      <td>35.0</td>\n",
       "      <td>0</td>\n",
       "      <td>0</td>\n",
       "      <td>373450</td>\n",
       "      <td>8.0500</td>\n",
       "      <td>NaN</td>\n",
       "      <td>S</td>\n",
       "    </tr>\n",
       "  </tbody>\n",
       "</table>\n",
       "</div>"
      ],
      "text/plain": [
       "   PassengerId  Survived  Pclass  \\\n",
       "0            1         0       3   \n",
       "1            2         1       1   \n",
       "2            3         1       3   \n",
       "3            4         1       1   \n",
       "4            5         0       3   \n",
       "\n",
       "                                                Name     Sex   Age  SibSp  \\\n",
       "0                            Braund, Mr. Owen Harris    male  22.0      1   \n",
       "1  Cumings, Mrs. John Bradley (Florence Briggs Th...  female  38.0      1   \n",
       "2                             Heikkinen, Miss. Laina  female  26.0      0   \n",
       "3       Futrelle, Mrs. Jacques Heath (Lily May Peel)  female  35.0      1   \n",
       "4                           Allen, Mr. William Henry    male  35.0      0   \n",
       "\n",
       "   Parch            Ticket     Fare Cabin Embarked  \n",
       "0      0         A/5 21171   7.2500   NaN        S  \n",
       "1      0          PC 17599  71.2833   C85        C  \n",
       "2      0  STON/O2. 3101282   7.9250   NaN        S  \n",
       "3      0            113803  53.1000  C123        S  \n",
       "4      0            373450   8.0500   NaN        S  "
      ]
     },
     "execution_count": 10,
     "metadata": {},
     "output_type": "execute_result"
    }
   ],
   "source": [
    "import numpy as np\n",
    "import pandas as pd\n",
    "import matplotlib.pyplot as plt\n",
    "% matplotlib inline\n",
    "\n",
    "df = pd.read_csv('titanic-data.csv')\n",
    "df.head()"
   ]
  },
  {
   "cell_type": "markdown",
   "metadata": {
    "scrolled": true
   },
   "source": [
    "# 3. Data Wrangling \n",
    "\n",
    "Deleting columns that are not required in this analysis\n",
    "\n",
    "The age column has missing values and I chose to remove these lines for a better analysis of the third question proposed.\n",
    "\n",
    "Then I transformed the discrete variable age into continuous variable"
   ]
  },
  {
   "cell_type": "code",
   "execution_count": 11,
   "metadata": {
    "scrolled": true
   },
   "outputs": [
    {
     "data": {
      "text/html": [
       "<div>\n",
       "<style scoped>\n",
       "    .dataframe tbody tr th:only-of-type {\n",
       "        vertical-align: middle;\n",
       "    }\n",
       "\n",
       "    .dataframe tbody tr th {\n",
       "        vertical-align: top;\n",
       "    }\n",
       "\n",
       "    .dataframe thead th {\n",
       "        text-align: right;\n",
       "    }\n",
       "</style>\n",
       "<table border=\"1\" class=\"dataframe\">\n",
       "  <thead>\n",
       "    <tr style=\"text-align: right;\">\n",
       "      <th></th>\n",
       "      <th>Survived</th>\n",
       "      <th>Pclass</th>\n",
       "      <th>Sex</th>\n",
       "      <th>Age</th>\n",
       "    </tr>\n",
       "  </thead>\n",
       "  <tbody>\n",
       "    <tr>\n",
       "      <th>0</th>\n",
       "      <td>0</td>\n",
       "      <td>3</td>\n",
       "      <td>male</td>\n",
       "      <td>22.0</td>\n",
       "    </tr>\n",
       "    <tr>\n",
       "      <th>1</th>\n",
       "      <td>1</td>\n",
       "      <td>1</td>\n",
       "      <td>female</td>\n",
       "      <td>38.0</td>\n",
       "    </tr>\n",
       "    <tr>\n",
       "      <th>2</th>\n",
       "      <td>1</td>\n",
       "      <td>3</td>\n",
       "      <td>female</td>\n",
       "      <td>26.0</td>\n",
       "    </tr>\n",
       "    <tr>\n",
       "      <th>3</th>\n",
       "      <td>1</td>\n",
       "      <td>1</td>\n",
       "      <td>female</td>\n",
       "      <td>35.0</td>\n",
       "    </tr>\n",
       "    <tr>\n",
       "      <th>4</th>\n",
       "      <td>0</td>\n",
       "      <td>3</td>\n",
       "      <td>male</td>\n",
       "      <td>35.0</td>\n",
       "    </tr>\n",
       "  </tbody>\n",
       "</table>\n",
       "</div>"
      ],
      "text/plain": [
       "   Survived  Pclass     Sex   Age\n",
       "0         0       3    male  22.0\n",
       "1         1       1  female  38.0\n",
       "2         1       3  female  26.0\n",
       "3         1       1  female  35.0\n",
       "4         0       3    male  35.0"
      ]
     },
     "execution_count": 11,
     "metadata": {},
     "output_type": "execute_result"
    }
   ],
   "source": [
    "df.drop(columns=['PassengerId', 'Name', 'Ticket', 'SibSp', 'Parch', 'Fare', 'Cabin', 'Embarked'], inplace=True)\n",
    "df.head()"
   ]
  },
  {
   "cell_type": "code",
   "execution_count": 12,
   "metadata": {},
   "outputs": [
    {
     "name": "stdout",
     "output_type": "stream",
     "text": [
      "<class 'pandas.core.frame.DataFrame'>\n",
      "RangeIndex: 891 entries, 0 to 890\n",
      "Data columns (total 4 columns):\n",
      "Survived    891 non-null int64\n",
      "Pclass      891 non-null int64\n",
      "Sex         891 non-null object\n",
      "Age         714 non-null float64\n",
      "dtypes: float64(1), int64(2), object(1)\n",
      "memory usage: 27.9+ KB\n"
     ]
    }
   ],
   "source": [
    "df.info()"
   ]
  },
  {
   "cell_type": "code",
   "execution_count": 13,
   "metadata": {},
   "outputs": [],
   "source": [
    "dfAge = df.dropna(axis=0, subset=['Age'])\n"
   ]
  },
  {
   "cell_type": "code",
   "execution_count": 14,
   "metadata": {
    "scrolled": true
   },
   "outputs": [
    {
     "name": "stderr",
     "output_type": "stream",
     "text": [
      "C:\\Users\\user\\Anaconda3\\lib\\site-packages\\ipykernel_launcher.py:1: SettingWithCopyWarning: \n",
      "A value is trying to be set on a copy of a slice from a DataFrame.\n",
      "Try using .loc[row_indexer,col_indexer] = value instead\n",
      "\n",
      "See the caveats in the documentation: http://pandas.pydata.org/pandas-docs/stable/indexing.html#indexing-view-versus-copy\n",
      "  \"\"\"Entry point for launching an IPython kernel.\n"
     ]
    }
   ],
   "source": [
    "dfAge['age_group'] = pd.cut(dfAge.Age, [0, 10, 20, 40, 80])"
   ]
  },
  {
   "cell_type": "markdown",
   "metadata": {},
   "source": [
    "# 4. Functions\n",
    "\n",
    "Defining functions that can be use on this study"
   ]
  },
  {
   "cell_type": "code",
   "execution_count": 15,
   "metadata": {},
   "outputs": [],
   "source": [
    "# Count occcurences of rows in dataset that fit the conditions\n",
    "def countOccurrences(df, conditions):\n",
    "    count = 0\n",
    "    dfWithCondition = df\n",
    "    for condition in conditions:\n",
    "        dfWithCondition =  dfWithCondition[dfWithCondition[condition] == conditions[condition]]\n",
    "    return dfWithCondition.shape[0]\n",
    "\n",
    "# Calculate percentage\n",
    "def getPercentage(numerator, denominator):\n",
    "    return round((numerator/denominator)*100, 2)\n",
    "\n",
    "# Plot Pie Chart\n",
    "def getPieChart(sizes, labels, title):\n",
    "\n",
    "    fig1, ax1 = plt.subplots()\n",
    "    ax1.pie(sizes, labels=labels, autopct='%1.1f%%',\n",
    "        shadow=True, startangle=90)\n",
    "    ax1.axis('equal')  # Equal aspect ratio ensures that pie is drawn as a circle.\n",
    "    ax1.set_title(title)\n",
    "    plt.show()\n",
    "\n",
    "#Label in middle of the chart\n",
    "def autolabel(ax, rects):\n",
    "    for rect in rects:\n",
    "        height = rect.get_height()\n",
    "        ax.text(rect.get_x() + rect.get_width()/2., 0.5*height,\n",
    "                height,\n",
    "                ha='center', va='bottom', color = '#FFFFFF', fontweight='bold')\n",
    "    \n",
    "#Plot bar chart\n",
    "def getBarChart(sizes, x, xlabel, ylabel, title):\n",
    "    N = len(sizes)\n",
    "    ind = np.arange(N)    # the x locations for the groups\n",
    "    width = 0.4       # the width of the bars: can also be len(x) sequence\n",
    "\n",
    "    p1 = plt.bar(ind, sizes, width)\n",
    "    \n",
    "    autolabel (plt, p1)\n",
    "    plt.ylabel(ylabel)\n",
    "    plt.xlabel(xlabel)\n",
    "    plt.title(title)\n",
    "    plt.xticks(ind, (x))\n",
    "   # plt.legend((p1[0], p2[0]), ('Men', 'Women'))\n",
    "\n",
    "    plt.show()\n",
    "\n",
    "#Plot bar chart with 2 bars side by side\n",
    "def get2BarChart(sizes, x, xlabel, ylabel, title):\n",
    "    groups = len(sizes[0])\n",
    "    fig, ax = plt.subplots()\n",
    "    index = np.arange(groups)\n",
    "    bar_width = 0.4   \n",
    "\n",
    "    female = ax.bar(index, sizes[0], bar_width,\n",
    "               color='#BF3FBF',\n",
    "                label='Female')\n",
    "    \n",
    "    male = ax.bar(index  + bar_width, sizes[1], bar_width,\n",
    "                color='b', \n",
    "                label='Male')\n",
    "    \n",
    "    autolabel(ax, female)\n",
    "    autolabel(ax, male)\n",
    "\n",
    "    ax.set_xlabel(xlabel)\n",
    "    ax.set_ylabel(ylabel)\n",
    "    ax.set_title(title)\n",
    "    # x label position\n",
    "    ax.set_xticks(index+(bar_width/2))\n",
    "    ax.set_xticklabels((x))\n",
    "    ax.legend()\n",
    "    fig.tight_layout()\n",
    "    plt.show()\n",
    "    \n"
   ]
  },
  {
   "cell_type": "markdown",
   "metadata": {},
   "source": [
    "# 5. First Question"
   ]
  },
  {
   "cell_type": "code",
   "execution_count": 16,
   "metadata": {},
   "outputs": [
    {
     "data": {
      "image/png": "[encoded data removed]",
      "text/plain": [
       "<Figure size 432x288 with 1 Axes>"
      ]
     },
     "metadata": {},
     "output_type": "display_data"
    },
    {
     "data": {
      "image/png": "[encoded data removed]",
      "text/plain": [
       "<Figure size 432x288 with 1 Axes>"
      ]
     },
     "metadata": {},
     "output_type": "display_data"
    }
   ],
   "source": [
    "#count female and male\n",
    "conditions = {'Sex': 'female'}\n",
    "countFemale = countOccurrences(df, conditions)\n",
    "conditions = {'Sex': 'male'}\n",
    "countMale = countOccurrences(df, conditions)\n",
    "\n",
    "#count female and male who survived\n",
    "conditions = {'Sex': 'female', 'Survived': 1}\n",
    "countFemaleSurvived = countOccurrences(df, conditions)\n",
    "conditions = {'Sex': 'male', 'Survived': 1}\n",
    "countMaleSurvived = countOccurrences(df, conditions)\n",
    "\n",
    "#survival rate\n",
    "pctFemale = getPercentage(countFemaleSurvived, countFemale)\n",
    "pctMale =  getPercentage(countMaleSurvived, countMale)\n",
    "\n",
    "#plot charts\n",
    "labels = 'Female', 'Male'\n",
    "sizes = countFemale, countMale\n",
    "getPieChart(sizes, labels, 'People Genre on the ship')\n",
    "sizes = pctFemale, pctMale\n",
    "getPieChart(sizes, labels, 'People Genre who survived')"
   ]
  },
  {
   "cell_type": "markdown",
   "metadata": {},
   "source": [
    "As we can see, the percentage of men on board the ship was significantly higher than women, about 65%.\n",
    "\n",
    "However, the second chart shows that, of the survivors, approximately 80% were women.\n",
    "\n",
    "Therefore, we can conclude from this specific database that the probability of survival for women was higher."
   ]
  },
  {
   "cell_type": "markdown",
   "metadata": {},
   "source": [
    "# 6. Second Question\n"
   ]
  },
  {
   "cell_type": "code",
   "execution_count": 17,
   "metadata": {},
   "outputs": [
    {
     "data": {
      "image/png": "[encoded data removed]",
      "text/plain": [
       "<Figure size 432x288 with 1 Axes>"
      ]
     },
     "metadata": {},
     "output_type": "display_data"
    }
   ],
   "source": [
    "#gender grouped by class\n",
    "countClassFemale = countOccurrences(df, {'Pclass': 1, 'Sex': 'female'}), countOccurrences(df, {'Pclass': 2, 'Sex': 'female'}), countOccurrences(df, {'Pclass': 3, 'Sex': 'female'})\n",
    "countClassMale = countOccurrences(df, {'Pclass': 1, 'Sex': 'male'}), countOccurrences(df, {'Pclass': 2, 'Sex': 'male'}), countOccurrences(df, {'Pclass': 3, 'Sex': 'male'})\n",
    "\n",
    "#gender grouped by class and survived\n",
    "countClassSurvivedFemale = countOccurrences(df, {'Pclass': 1, 'Sex': 'female', 'Survived': 1}), countOccurrences(df, {'Pclass': 2, 'Sex': 'female', 'Survived': 1}), countOccurrences(df, {'Pclass': 3, 'Sex': 'female', 'Survived': 1})\n",
    "countClassSurvivedMale = countOccurrences(df, {'Pclass': 1, 'Sex': 'male', 'Survived': 1}), countOccurrences(df, {'Pclass': 2, 'Sex': 'male', 'Survived': 1}), countOccurrences(df, {'Pclass': 3, 'Sex': 'male', 'Survived': 1})\n",
    "\n",
    "#survival rate\n",
    "pctFemale = getPercentage(countClassSurvivedFemale[0], countClassFemale[0]), getPercentage(countClassSurvivedFemale[1], countClassFemale[1]), getPercentage(countClassSurvivedFemale[2], countClassFemale[2])\n",
    "pctMale = getPercentage(countClassSurvivedMale[0], countClassMale[0]), getPercentage(countClassSurvivedMale[1], countClassMale[1]), getPercentage(countClassSurvivedMale[2], countClassMale[2])\n",
    "\n",
    "#plot bar chart\n",
    "sizes = pctFemale, pctMale\n",
    "pClass = '1', '2', '3'\n",
    "get2BarChart(sizes, pClass, 'Class', 'Survival Rate (%)', 'Survival Rate per Class and Gender')"
   ]
  },
  {
   "cell_type": "markdown",
   "metadata": {},
   "source": [
    "Based on the chart we can see that the survival rate was extremely high for women of first and second class . And the survival rate of first-class men was more than double than other classes.\n",
    "\n",
    "So, we can conclude that the ticket class influenced the probability of people's survival"
   ]
  },
  {
   "cell_type": "markdown",
   "metadata": {},
   "source": [
    "# 7. Third Question"
   ]
  },
  {
   "cell_type": "code",
   "execution_count": 18,
   "metadata": {},
   "outputs": [
    {
     "data": {
      "image/png": "[encoded data removed]",
      "text/plain": [
       "<Figure size 432x288 with 1 Axes>"
      ]
     },
     "metadata": {},
     "output_type": "display_data"
    }
   ],
   "source": [
    "dfAge = dfAge.sort_values(by='age_group')\n",
    "uniqueAge = dfAge.age_group.unique()\n",
    "\n",
    "countAge = []\n",
    "countAgeSurvived = []\n",
    "#count for each age range\n",
    "for ageRange in uniqueAge:\n",
    "    countAge.append(countOccurrences(dfAge, {'age_group': ageRange}))\n",
    "    countAgeSurvived.append(countOccurrences(dfAge, {'age_group': ageRange, 'Survived': 1}))\n",
    "\n",
    "#get survival rate\n",
    "pctAgeSurvived = []\n",
    "for index in range(0, len(countAge)):\n",
    "    pctAgeSurvived.append(getPercentage(countAgeSurvived[index], countAge[index]))\n",
    "\n",
    "\n",
    "\n",
    "#plot chart\n",
    "getBarChart(pctAgeSurvived, uniqueAge, 'Age', 'Survival Rate (%)', \"Survival Rate per Age Range\")\n"
   ]
  },
  {
   "cell_type": "markdown",
   "metadata": {},
   "source": [
    "We can see that the survival rate of children between 0 and 10 years was significantly higher than other people. Thus, we conclude that children had a higher probability of survival."
   ]
  },
  {
   "cell_type": "markdown",
   "metadata": {},
   "source": [
    "# 8. Conclusion\n",
    "\n",
    "We can see in this study that the probability of  women survival was significantly higher than men survival. In addition, passengers who were boarded in first class also had a better chance of survival. We can highlight that 96,81% of first class women survived.\n",
    "Another interesting point is that children from 0 to 10 yearsalso had a higher probability of survival than other people.\n",
    "\n",
    "# 9. Limitations\n",
    "\n",
    "The accuracy of the third question in this study may have been affected by missing values on Age column. The decision was to remove rows where the column Age did not have values."
   ]
  },
  {
   "cell_type": "markdown",
   "metadata": {},
   "source": [
    "# 10. References\n",
    "\n",
    "    https://www.kaggle.com/c/titanic/data\n",
    "    https://www.quora.com/How-can-I-transform-continuous-values-into-categorical-variables-in-Python\n",
    "    https://pandas.pydata.org/pandas-docs/stable/\n",
    "    https://matplotlib.org/contents.html\n",
    "    https://pt.stackoverflow.com/"
   ]
  }
 ],
 "metadata": {
  "kernelspec": {
   "display_name": "Python 3",
   "language": "python",
   "name": "python3"
  },
  "language_info": {
   "codemirror_mode": {
    "name": "ipython",
    "version": 3
   },
   "file_extension": ".py",
   "mimetype": "text/x-python",
   "name": "python",
   "nbconvert_exporter": "python",
   "pygments_lexer": "ipython3",
   "version": "3.6.5"
  }
 },
 "nbformat": 4,
 "nbformat_minor": 2
}
